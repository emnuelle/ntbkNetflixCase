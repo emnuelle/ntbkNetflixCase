{
 "cells": [
  {
   "cell_type": "markdown",
   "metadata": {},
   "source": [
    "# Dynamic Programming Task 1 - Netflix Case\n",
    "\n",
    "Por: Emanuelle Soares | rm 97973 | 2ESPG\n",
    "\n",
    "## Description:\n",
    "Esta atividade tem como objetivo analisar um conjunto de dados sobre títulos disponíveis na Netflix. Utilizando Python e a biblioteca pandas, exploramos diversas informações, como os tipos mais comuns de conteúdo (filmes ou séries), as classificações mais frequentes, a distribuição dos tamanhos das descrições e até mesmo a ocorrência de caracteres em posições específicas das descrições. Vamos descobrir quais são os tipos mais populares de conteúdo na Netflix, as classificações mais comuns e outras tendências interessantes!\n",
    "\n",
    "Existem dois programas neste notebook, sendo o primeiro (abaixo) o que lê propriamante todos os dados, incluindo os erros constados no arquivo .csv, e o segundo que possui uma função que exclui da leitura todas as partes do arquivo que possui o erro identificado."
   ]
  },
  {
   "cell_type": "code",
   "execution_count": 1,
   "metadata": {},
   "outputs": [
    {
     "name": "stdout",
     "output_type": "stream",
     "text": [
      "Tipo mais comum: Movie com 6131 ocorrências\n",
      "Tipo menos comum: TV Show com 2676 ocorrências\n",
      "Rating mais comum: TV-MA com 3207 ocorrências\n",
      "Note de que a classifcação abaixo identifica o tempo, e não a classificação em si. (este é um erro do arquivo .csv)\n",
      "Rating menos comum: 66 min com 1 ocorrências\n",
      "Caractere mais frequente na quarta posição: e com 1481 ocorrências\n",
      "Caractere menos frequente na quarta posição: \" com 1 ocorrências\n",
      "Caractere mais frequente na décima terceira posição:   com 1273 ocorrências\n",
      "Caractere menos frequente na décima terceira posição: Z com 1 ocorrências\n",
      "Distribuição dos tamanhos das descrições: Counter({150: 926, 149: 828, 148: 779, 147: 663, 146: 576, 145: 465, 144: 425, 151: 409, 143: 356, 142: 317, 152: 294, 141: 258, 140: 226, 139: 216, 138: 187, 135: 149, 136: 146, 137: 145, 134: 125, 131: 117, 132: 108, 133: 107, 130: 90, 153: 84, 129: 80, 127: 74, 128: 70, 126: 63, 125: 57, 122: 40, 121: 38, 124: 38, 123: 36, 120: 30, 119: 22, 118: 21, 114: 19, 116: 17, 117: 17, 112: 15, 115: 13, 154: 12, 110: 12, 111: 9, 106: 8, 155: 7, 108: 6, 113: 6, 107: 5, 103: 5, 105: 5, 102: 5, 104: 5, 98: 4, 100: 4, 97: 3, 109: 3, 101: 3, 244: 2, 243: 2, 202: 2, 88: 2, 99: 2, 160: 2, 248: 2, 203: 2, 239: 2, 211: 2, 185: 2, 221: 2, 246: 2, 95: 1, 209: 1, 61: 1, 181: 1, 198: 1, 218: 1, 158: 1, 222: 1, 92: 1, 94: 1, 240: 1, 245: 1, 90: 1, 169: 1, 191: 1, 192: 1, 231: 1, 187: 1, 215: 1, 96: 1, 207: 1, 180: 1, 197: 1, 177: 1, 237: 1, 235: 1, 82: 1, 220: 1, 159: 1, 93: 1, 230: 1, 241: 1, 236: 1})\n"
     ]
    }
   ],
   "source": [
    "import pandas as pd\n",
    "from collections import Counter\n",
    "\n",
    "# Carregar o arquivo CSV\n",
    "df = pd.read_csv('netflix_titles.csv')\n",
    "\n",
    "# 2.1.1 Gere uma lista com os tipos ('types') dos trabalhos ali presentes.\n",
    "types_counter = Counter(df['type'])\n",
    "most_common_type = types_counter.most_common(1)[0]  \n",
    "least_common_type = types_counter.most_common()[-1]\n",
    "\n",
    "# 2.1.2 Execute a mesma solução para o campo ‘rating’\n",
    "ratings_counter = Counter(df['rating'].dropna())  # Remova valores nulos antes de contar\n",
    "most_common_rating = ratings_counter.most_common(1)[0]\n",
    "least_common_rating = ratings_counter.most_common()[-1]\n",
    "\n",
    "# 2.1.3 Sobre o campo ‘description’, organize duas pilhas\n",
    "fourth_char_stack = [desc[3] for desc in df['description'] if len(desc) > 3]\n",
    "thirteenth_char_stack = [desc[12] for desc in df['description'] if len(desc) > 12]\n",
    "most_common_fourth_char = Counter(fourth_char_stack).most_common(1)[0]\n",
    "least_common_fourth_char = Counter(fourth_char_stack).most_common()[-1]\n",
    "most_common_thirteenth_char = Counter(thirteenth_char_stack).most_common(1)[0]\n",
    "least_common_thirteenth_char = Counter(thirteenth_char_stack).most_common()[-1]\n",
    "\n",
    "# 2.1.4 Faça uma função para contar quantos caracteres há nesse campo ‘description’\n",
    "description_lengths = df['description'].apply(len)\n",
    "description_length_distribution = Counter(description_lengths)\n",
    "\n",
    "# Apresentação dos resultados\n",
    "print(f\"Tipo mais comum: {most_common_type[0]} com {most_common_type[1]} ocorrências\")\n",
    "print(f\"Tipo menos comum: {least_common_type[0]} com {least_common_type[1]} ocorrências\")\n",
    "print(f\"Rating mais comum: {most_common_rating[0]} com {most_common_rating[1]} ocorrências\")\n",
    "print(\"Note de que a classifcação abaixo identifica o tempo, e não a classificação em si. (este é um erro do arquivo .csv)\")\n",
    "print(f\"Rating menos comum: {least_common_rating[0]} com {least_common_rating[1]} ocorrências\")\n",
    "print(f\"Caractere mais frequente na quarta posição: {most_common_fourth_char[0]} com {most_common_fourth_char[1]} ocorrências\")\n",
    "print(f\"Caractere menos frequente na quarta posição: {least_common_fourth_char[0]} com {least_common_fourth_char[1]} ocorrências\")\n",
    "print(f\"Caractere mais frequente na décima terceira posição: {most_common_thirteenth_char[0]} com {most_common_thirteenth_char[1]} ocorrências\")\n",
    "print(f\"Caractere menos frequente na décima terceira posição: {least_common_thirteenth_char[0]} com {least_common_thirteenth_char[1]} ocorrências\")\n",
    "print(f\"Distribuição dos tamanhos das descrições: {description_length_distribution}\")\n"
   ]
  },
  {
   "cell_type": "markdown",
   "metadata": {},
   "source": [
    "Abaixo temos o código que exclui o 66min do rating, para obter o resultado preciso, identificando qual é o Rating menos comúm"
   ]
  },
  {
   "cell_type": "code",
   "execution_count": 15,
   "metadata": {},
   "outputs": [
    {
     "name": "stdout",
     "output_type": "stream",
     "text": [
      "Tipo mais comum: Movie com 6131 ocorrências\n",
      "Tipo menos comum: TV Show com 2676 ocorrências\n",
      "Rating mais comum: TV-MA com 3207 ocorrências\n",
      "Rating menos comum: UR com 3 ocorrências\n",
      "Caractere mais frequente na quarta posição: e com 1481 ocorrências\n",
      "Caractere menos frequente na quarta posição: \" com 1 ocorrências\n",
      "Caractere mais frequente na décima terceira posição:   com 1273 ocorrências\n",
      "Caractere menos frequente na décima terceira posição: Z com 1 ocorrências\n",
      "Distribuição dos tamanhos das descrições: Counter({150: 926, 149: 828, 148: 779, 147: 663, 146: 576, 145: 465, 144: 425, 151: 409, 143: 356, 142: 317, 152: 294, 141: 258, 140: 226, 139: 216, 138: 187, 135: 149, 136: 146, 137: 145, 134: 125, 131: 117, 132: 108, 133: 107, 130: 90, 153: 84, 129: 80, 127: 74, 128: 70, 126: 63, 125: 57, 122: 40, 121: 38, 124: 38, 123: 36, 120: 30, 119: 22, 118: 21, 114: 19, 116: 17, 117: 17, 112: 15, 115: 13, 154: 12, 110: 12, 111: 9, 106: 8, 155: 7, 108: 6, 113: 6, 107: 5, 103: 5, 105: 5, 102: 5, 104: 5, 98: 4, 100: 4, 97: 3, 109: 3, 101: 3, 244: 2, 243: 2, 202: 2, 88: 2, 99: 2, 160: 2, 248: 2, 203: 2, 239: 2, 211: 2, 185: 2, 221: 2, 246: 2, 95: 1, 209: 1, 61: 1, 181: 1, 198: 1, 218: 1, 158: 1, 222: 1, 92: 1, 94: 1, 240: 1, 245: 1, 90: 1, 169: 1, 191: 1, 192: 1, 231: 1, 187: 1, 215: 1, 96: 1, 207: 1, 180: 1, 197: 1, 177: 1, 237: 1, 235: 1, 82: 1, 220: 1, 159: 1, 93: 1, 230: 1, 241: 1, 236: 1})\n"
     ]
    }
   ],
   "source": [
    "import pandas as pd\n",
    "from collections import Counter\n",
    "\n",
    "# Carregar o arquivo CSV\n",
    "df = pd.read_csv('netflix_titles.csv')\n",
    "\n",
    "# 2.1.1 Gere uma lista com os tipos ('types') dos trabalhos ali presentes.\n",
    "types_counter = Counter(df['type'])\n",
    "most_common_type = types_counter.most_common(1)[0]  \n",
    "least_common_type = types_counter.most_common()[-1]\n",
    "\n",
    "# 2.1.2 Execute a mesma solução para o campo ‘rating’\n",
    "# Remova valores nulos e aqueles que contêm \"min\" antes de contar\n",
    "ratings_counter = Counter(df['rating'].astype(str)[~df['rating'].astype(str).str.contains(\"min\", na=False)].dropna())\n",
    "most_common_rating = ratings_counter.most_common(1)[0]\n",
    "least_common_rating = ratings_counter.most_common()[-1]\n",
    "\n",
    "# 2.1.3 Sobre o campo ‘description’, organize duas pilhas\n",
    "fourth_char_stack = [desc[3] for desc in df['description'] if len(desc) > 3]\n",
    "thirteenth_char_stack = [desc[12] for desc in df['description'] if len(desc) > 12]\n",
    "most_common_fourth_char = Counter(fourth_char_stack).most_common(1)[0]\n",
    "least_common_fourth_char = Counter(fourth_char_stack).most_common()[-1]\n",
    "most_common_thirteenth_char = Counter(thirteenth_char_stack).most_common(1)[0]\n",
    "least_common_thirteenth_char = Counter(thirteenth_char_stack).most_common()[-1]\n",
    "\n",
    "# 2.1.4 Faça uma função para contar quantos caracteres há nesse campo ‘description’\n",
    "description_lengths = df['description'].apply(len)\n",
    "description_length_distribution = Counter(description_lengths)\n",
    "\n",
    "# Apresentação dos resultados\n",
    "print(f\"Tipo mais comum: {most_common_type[0]} com {most_common_type[1]} ocorrências\")\n",
    "print(f\"Tipo menos comum: {least_common_type[0]} com {least_common_type[1]} ocorrências\")\n",
    "print(f\"Rating mais comum: {most_common_rating[0]} com {most_common_rating[1]} ocorrências\")\n",
    "print(f\"Rating menos comum: {least_common_rating[0]} com {least_common_rating[1]} ocorrências\")\n",
    "print(f\"Caractere mais frequente na quarta posição: {most_common_fourth_char[0]} com {most_common_fourth_char[1]} ocorrências\")\n",
    "print(f\"Caractere menos frequente na quarta posição: {least_common_fourth_char[0]} com {least_common_fourth_char[1]} ocorrências\")\n",
    "print(f\"Caractere mais frequente na décima terceira posição: {most_common_thirteenth_char[0]} com {most_common_thirteenth_char[1]} ocorrências\")\n",
    "print(f\"Caractere menos frequente na décima terceira posição: {least_common_thirteenth_char[0]} com {least_common_thirteenth_char[1]} ocorrências\")\n",
    "print(f\"Distribuição dos tamanhos das descrições: {description_length_distribution}\")\n",
    "\n"
   ]
  }
 ],
 "metadata": {
  "kernelspec": {
   "display_name": "Python 3",
   "language": "python",
   "name": "python3"
  },
  "language_info": {
   "codemirror_mode": {
    "name": "ipython",
    "version": 3
   },
   "file_extension": ".py",
   "mimetype": "text/x-python",
   "name": "python",
   "nbconvert_exporter": "python",
   "pygments_lexer": "ipython3",
   "version": "3.12.0"
  }
 },
 "nbformat": 4,
 "nbformat_minor": 2
}
